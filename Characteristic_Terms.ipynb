{
 "cells": [
  {
   "cell_type": "markdown",
   "metadata": {},
   "source": [
    "# Characteristic Terms - Intent, Mental Health, and Intent x Mental Health"
   ]
  },
  {
   "cell_type": "markdown",
   "metadata": {},
   "source": [
    "This notebook takes a random sample of posts from the collected Reddit intention corpus and produces scattertext plots of characteristic terms. Characteristic terms are those that are more frequent in corpus in comparison to the standard English language corpus (loaded from spaCy). In addition, characteristic terms are further identified according to category columns: intent (Seeking advice or Venting) and group (Mental Health or General). "
   ]
  },
  {
   "cell_type": "code",
   "execution_count": 65,
   "metadata": {},
   "outputs": [],
   "source": [
    "import pandas as pd\n",
    "import numpy as np\n",
    "import scattertext as st\n",
    "import spacy\n",
    "from pprint import pprint\n",
    "import pickle"
   ]
  },
  {
   "cell_type": "markdown",
   "metadata": {},
   "source": [
    "Load data and models"
   ]
  },
  {
   "cell_type": "code",
   "execution_count": 5,
   "metadata": {},
   "outputs": [],
   "source": [
    "#load data\n",
    "MH = pd.read_csv('MH_ss.csv',index_col='id')\n",
    "advice = pd.read_csv('advice_ss.csv',index_col='id')\n",
    "vent = pd.read_csv('vent_ss.csv',index_col='id')\n",
    "gen = pd.concat([advice,vent],sort=True)"
   ]
  },
  {
   "cell_type": "markdown",
   "metadata": {},
   "source": [
    "Due to computational complexity of generating scattertext corpi, random sample 5,000 vent and 5,000 advice posts."
   ]
  },
  {
   "cell_type": "code",
   "execution_count": 38,
   "metadata": {},
   "outputs": [],
   "source": [
    "MH_body = MH.loc[~MH['selftext'].isin(['[removed]','[deleted]'])]\n",
    "\n",
    "vent_samp = MH_body.loc[MH_body['intent']=='VENT'].sample(5000)\n",
    "adv_samp = MH_body.loc[MH_body['intent']=='ADVICE'].sample(5000)\n",
    "\n",
    "MH_samp = pd.concat([vent_samp,adv_samp])\n"
   ]
  },
  {
   "cell_type": "code",
   "execution_count": 20,
   "metadata": {},
   "outputs": [],
   "source": [
    "#spaCy model of general English corpus\n",
    "nlp= spacy.load('en')"
   ]
  },
  {
   "cell_type": "markdown",
   "metadata": {},
   "source": [
    "### Mental Health corpus - Characteristic Terms and Scattertext Plot"
   ]
  },
  {
   "cell_type": "code",
   "execution_count": 39,
   "metadata": {},
   "outputs": [],
   "source": [
    "#characteristic terms using scattertext\n",
    "#for more than 2 categories, do n 1 vs n-1 plots\n",
    "\n",
    "#turning dfs into Scattertext Corpus \n",
    "MH_corpus = st.CorpusFromPandas(MH_samp,\n",
    "                                category_col='intent',\n",
    "                                text_col='selftext',\n",
    "                                nlp=nlp\n",
    "                               ).build()\n",
    "\n"
   ]
  },
  {
   "cell_type": "code",
   "execution_count": 27,
   "metadata": {},
   "outputs": [
    {
     "name": "stdout",
     "output_type": "stream",
     "text": [
      "['bpd', 'idk', 'anxiety', 'reddit', 'anxious', 'gon', 'texted', 'instagram', 'cptsd', 'texting']\n"
     ]
    }
   ],
   "source": [
    "#characteristic terms that differentiate corpus from general English\n",
    "print(list(MH_corpus.get_scaled_f_scores_vs_background().index[:10]))\n",
    "\n"
   ]
  },
  {
   "cell_type": "code",
   "execution_count": 28,
   "metadata": {},
   "outputs": [
    {
     "name": "stdout",
     "output_type": "stream",
     "text": [
      "['advice',\n",
      " 'any advice',\n",
      " 'panic',\n",
      " 'depression',\n",
      " 'any',\n",
      " 'help',\n",
      " 'do i',\n",
      " 'anxiety',\n",
      " 'how to',\n",
      " 'have been']\n",
      "['fucking',\n",
      " 'fuck',\n",
      " 'wish',\n",
      " 'tired',\n",
      " 'hate',\n",
      " 'i hate',\n",
      " 'shit',\n",
      " 'enough',\n",
      " 'everyone',\n",
      " 'i wish']\n"
     ]
    }
   ],
   "source": [
    "MH_term_freq_df = MH_corpus.get_term_freq_df()\n",
    "MH_term_freq_df['Advice Score']= MH_corpus.get_scaled_f_scores('ADVICE')\n",
    "MH_term_freq_df['Vent Score']= MH_corpus.get_scaled_f_scores('VENT')\n",
    "\n",
    "pprint(list(MH_term_freq_df.sort_values(by='Advice Score',\n",
    "                                        ascending=False).index[:10]))\n",
    "\n",
    "pprint(list(MH_term_freq_df.sort_values(by='Vent Score',\n",
    "                                        ascending=False).index[:10]))"
   ]
  },
  {
   "cell_type": "code",
   "execution_count": 40,
   "metadata": {},
   "outputs": [
    {
     "data": {
      "text/plain": [
       "13989244"
      ]
     },
     "execution_count": 40,
     "metadata": {},
     "output_type": "execute_result"
    }
   ],
   "source": [
    "html = st.produce_scattertext_explorer(MH_corpus,\n",
    "          category='ADVICE',\n",
    "          category_name='advice',\n",
    "          not_category_name='vent',\n",
    "          minimum_term_frequency=20,                             \n",
    "          width_in_pixels=1000)\n",
    "\n",
    "open(\"MH-Term-Visualization_10000.html\", 'wb').write(html.encode('utf-8'))"
   ]
  },
  {
   "cell_type": "markdown",
   "metadata": {},
   "source": [
    "### General corpus - Characteristic Terms and Scattertext Plot"
   ]
  },
  {
   "cell_type": "markdown",
   "metadata": {},
   "source": [
    "Random sample of 5,000 advice posts and 5,000 vent posts."
   ]
  },
  {
   "cell_type": "code",
   "execution_count": 41,
   "metadata": {},
   "outputs": [],
   "source": [
    "gen_body = gen.loc[~gen['selftext'].isin(['[removed]','[deleted]'])]\n",
    "vent_samp = gen_body.loc[gen_body['intent']=='VENT'].sample(5000)\n",
    "adv_samp = gen_body.loc[gen_body['intent']=='ADVICE'].sample(5000)\n",
    "gen_samp = pd.concat([vent_samp,adv_samp])"
   ]
  },
  {
   "cell_type": "code",
   "execution_count": 42,
   "metadata": {},
   "outputs": [],
   "source": [
    "#characteristic terms using scattertext\n",
    "#for more than 2 categories, do n 1 vs n-1 plots\n",
    "\n",
    "#turning dfs into Scattertext Corpus \n",
    "gen_corpus = st.CorpusFromPandas(gen_samp,\n",
    "                                category_col='intent',\n",
    "                                text_col='selftext',\n",
    "                                nlp=nlp\n",
    "                               ).build()\n",
    "\n"
   ]
  },
  {
   "cell_type": "code",
   "execution_count": 44,
   "metadata": {},
   "outputs": [
    {
     "data": {
      "text/plain": [
       "12784539"
      ]
     },
     "execution_count": 44,
     "metadata": {},
     "output_type": "execute_result"
    }
   ],
   "source": [
    "html = st.produce_scattertext_explorer(gen_corpus,\n",
    "          category='ADVICE',\n",
    "          category_name='Advice',\n",
    "          not_category_name='Vent',\n",
    "          minimum_term_frequency=30,                                                                    \n",
    "          width_in_pixels=1000)\n",
    "\n",
    "open(\"General-Intent-Term-Visualization_10000.html\", 'wb').write(html.encode('utf-8'))"
   ]
  },
  {
   "cell_type": "markdown",
   "metadata": {},
   "source": [
    "### Use custom coordinates to plot the intent scaled f-score vs. mental health scaled f-score"
   ]
  },
  {
   "cell_type": "code",
   "execution_count": null,
   "metadata": {},
   "outputs": [],
   "source": [
    "#single corpus, put MH and general merged.. new col, MH general\n",
    "#apply f-scores of different corpus to x_coords, y_coords"
   ]
  },
  {
   "cell_type": "code",
   "execution_count": 45,
   "metadata": {},
   "outputs": [],
   "source": [
    "gen_samp['group'] = 'GENERAL'\n",
    "MH_samp['group'] = 'MENTAL HEALTH'\n",
    "merged_samp = pd.concat([gen_samp,MH_samp],sort=True)"
   ]
  },
  {
   "cell_type": "code",
   "execution_count": 46,
   "metadata": {},
   "outputs": [],
   "source": [
    "merged_corpus_intent = st.CorpusFromPandas(merged_samp,\n",
    "                                category_col='intent',\n",
    "                                text_col='selftext',\n",
    "                                nlp=nlp\n",
    "                               ).build()"
   ]
  },
  {
   "cell_type": "code",
   "execution_count": 47,
   "metadata": {},
   "outputs": [],
   "source": [
    "merged_corpus_group = st.CorpusFromPandas(merged_samp,\n",
    "                                category_col='group',\n",
    "                                text_col='selftext',\n",
    "                                nlp=nlp\n",
    "                               ).build()"
   ]
  },
  {
   "cell_type": "code",
   "execution_count": 48,
   "metadata": {},
   "outputs": [],
   "source": [
    "#get f-scores\n",
    "advice_scores = merged_corpus_intent.get_scaled_f_scores('ADVICE')\n",
    "health_scores = merged_corpus_group.get_scaled_f_scores('MENTAL HEALTH')"
   ]
  },
  {
   "cell_type": "code",
   "execution_count": 64,
   "metadata": {},
   "outputs": [
    {
     "data": {
      "text/plain": [
       "25624332"
      ]
     },
     "execution_count": 64,
     "metadata": {},
     "output_type": "execute_result"
    }
   ],
   "source": [
    "html = st.produce_scattertext_explorer(merged_corpus_intent,\n",
    "                                       category='ADVICE',\n",
    "                                       category_name='Advice',\n",
    "                                       not_category_name='Venting',\n",
    "                                       minimum_term_frequency=30,\n",
    "                                       pmi_filter_thresold=4,\n",
    "                                       width_in_pixels=1000,\n",
    "                                       scores=advice_scores,\n",
    "                                       sort_by_dist=False,\n",
    "                                       x_coords=health_scores,\n",
    "                                       y_coords=advice_scores,\n",
    "                                       show_characteristic=False,\n",
    "                                       metadata=(merged_corpus_intent.get_df()['group']+' ('+merged_corpus_intent.get_df()['subreddit']  + ')'),\n",
    "                                       x_label='More Mental-Health related',\n",
    "                                       y_label='More Advice-Seeking')\n",
    "file_name = 'Intent_Group.html'\n",
    "open(file_name, 'wb').write(html.encode('utf-8'))"
   ]
  },
  {
   "cell_type": "markdown",
   "metadata": {},
   "source": [
    "### Pickle corpus objects"
   ]
  },
  {
   "cell_type": "code",
   "execution_count": 66,
   "metadata": {},
   "outputs": [],
   "source": [
    "with open('corpus_intent_10k.pickle', 'wb') as f:\n",
    "    pickle.dump(merged_corpus_intent, f)\n",
    "    \n",
    "with open('corpus_group_10k.pickle', 'wb') as f:\n",
    "    pickle.dump(merged_corpus_group, f)\n"
   ]
  },
  {
   "cell_type": "code",
   "execution_count": 67,
   "metadata": {},
   "outputs": [],
   "source": [
    "with open('corpus_MH_5k.pickle', 'wb') as f:\n",
    "    pickle.dump(MH_corpus, f)\n",
    "    \n",
    "with open('corpus_gen_5k.pickle', 'wb') as f:\n",
    "    pickle.dump(gen_corpus, f)\n"
   ]
  }
 ],
 "metadata": {
  "kernelspec": {
   "display_name": "Python 3",
   "language": "python",
   "name": "python3"
  },
  "language_info": {
   "codemirror_mode": {
    "name": "ipython",
    "version": 3
   },
   "file_extension": ".py",
   "mimetype": "text/x-python",
   "name": "python",
   "nbconvert_exporter": "python",
   "pygments_lexer": "ipython3",
   "version": "3.7.3"
  }
 },
 "nbformat": 4,
 "nbformat_minor": 4
}
