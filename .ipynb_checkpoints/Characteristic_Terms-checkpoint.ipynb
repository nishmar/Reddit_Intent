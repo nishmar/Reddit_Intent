{
 "cells": [
  {
   "cell_type": "markdown",
   "metadata": {},
   "source": [
    "# Characteristic Terms in Reddit Posts"
   ]
  },
  {
   "cell_type": "markdown",
   "metadata": {},
   "source": [
    "This notebook takes a random sample of posts from the collected Reddit intention corpus and produces scattertext plots of characteristic terms. Characteristic terms are those that are more frequent in corpus in comparison to the standard English language corpus (loaded from spaCy). In addition, characteristic terms are further identified according to category columns: intent (Seeking advice or Venting) and group (Mental Health or General). "
   ]
  },
  {
   "cell_type": "code",
   "execution_count": 1,
   "metadata": {},
   "outputs": [],
   "source": [
    "import pandas as pd\n",
    "import numpy as np\n",
    "import scattertext as st\n",
    "import spacy\n",
    "from pprint import pprint\n",
    "import pickle"
   ]
  },
  {
   "cell_type": "markdown",
   "metadata": {},
   "source": [
    "Load data and models"
   ]
  },
  {
   "cell_type": "code",
   "execution_count": 2,
   "metadata": {},
   "outputs": [],
   "source": [
    "#load data\n",
    "MH = pd.read_csv('../data/MH_ss.csv',index_col='id', low_memory=False)\n",
    "advice = pd.read_csv('../data/advice_ss.csv',index_col='id', low_memory=False)\n",
    "vent = pd.read_csv('../data/vent_ss.csv',index_col='id', low_memory=False)\n",
    "gen = pd.concat([advice,vent],sort=True)"
   ]
  },
  {
   "cell_type": "code",
   "execution_count": 20,
   "metadata": {},
   "outputs": [],
   "source": [
    "#spaCy model of general English corpus\n",
    "nlp= spacy.load('en')"
   ]
  },
  {
   "cell_type": "markdown",
   "metadata": {},
   "source": [
    "Due to computational complexity of generating scattertext corpi, random sample 5,000 vent and 5,000 advice posts."
   ]
  },
  {
   "cell_type": "code",
   "execution_count": 7,
   "metadata": {},
   "outputs": [],
   "source": [
    "MH_body = MH.loc[~MH['selftext'].isin(['[removed]','[deleted]'])]\n",
    "vent_samp = MH_body.loc[MH_body['intent']=='VENT'].sample(5000)\n",
    "adv_samp = MH_body.loc[MH_body['intent']=='ADVICE'].sample(5000)\n",
    "MH_samp = pd.concat([vent_samp,adv_samp])\n",
    "\n",
    "\n",
    "gen_body = gen.loc[~gen['selftext'].isin(['[removed]','[deleted]'])]\n",
    "vent_samp = gen_body.loc[gen_body['intent']=='VENT'].sample(5000)\n",
    "adv_samp = gen_body.loc[gen_body['intent']=='ADVICE'].sample(5000)\n",
    "gen_samp = pd.concat([vent_samp,adv_samp])"
   ]
  },
  {
   "cell_type": "markdown",
   "metadata": {},
   "source": [
    "### Characteristic Terms in General Posts\n",
    "\n",
    "To view the interactive version, please visit : <a href='https://www.cs.columbia.edu/~nishi/General-Intent-Term-Visualization_10000.html'> Link </a>, where you can enter your own terms, click on the points to view their scores, and see excerpts of the posts in which they appear.\n",
    "\n",
    "**Note** : Loading the static page takes a few minutes but runs smoothly from there. "
   ]
  },
  {
   "cell_type": "markdown",
   "metadata": {},
   "source": [
    "F-scores for words are computed through the harmonic mean of P(term | category) and P(category | term) for terms in corpus. \n",
    "\n",
    "The y-axis shows an Advice F-score, while the x-axis shows Vent F-score. Each point on the scattertext plot represents a word's Advice F-score vs. Vent F-score.\n",
    "\n",
    "This means, upper left corner of plot shows terms highly associated with advice-seeking posts only, while lower right corner shows terms highly associated with vent-seeking posts only. Those on the upper right corner are terms highly in common for both.\n",
    "\n",
    "It makes sense that advice-seeking posts tend to include terms explicitly requesting advice (\"any advice\", \"please help\") and gratitude for future responses (\"appreicated\", \"in advance\"). More interesting is the use of greetings in advice-seeking posts (\"hello\", \"hi\") which indicate advice-seeking posts tend to address an audience while venting posts do not. There seem to be more profanity and negative words (\"trash\", \"scream\") associated with venting. Note, many vents about President Trump.\n"
   ]
  },
  {
   "cell_type": "markdown",
   "metadata": {},
   "source": [
    "<img src='img/gen_intent.png'>"
   ]
  },
  {
   "cell_type": "markdown",
   "metadata": {},
   "source": [
    "### Generating the Scattertext Plot:"
   ]
  },
  {
   "cell_type": "code",
   "execution_count": 42,
   "metadata": {},
   "outputs": [],
   "source": [
    "#turning dfs into Scattertext Corpus \n",
    "gen_corpus = st.CorpusFromPandas(gen_samp,\n",
    "                                category_col='intent',\n",
    "                                text_col='selftext',\n",
    "                                nlp=nlp\n",
    "                               ).build()\n",
    "\n"
   ]
  },
  {
   "cell_type": "code",
   "execution_count": 44,
   "metadata": {},
   "outputs": [
    {
     "data": {
      "text/plain": [
       "12784539"
      ]
     },
     "execution_count": 44,
     "metadata": {},
     "output_type": "execute_result"
    }
   ],
   "source": [
    "html = st.produce_scattertext_explorer(gen_corpus,\n",
    "          category='ADVICE',\n",
    "          category_name='Advice',\n",
    "          not_category_name='Vent',\n",
    "          minimum_term_frequency=30,                                                                    \n",
    "          width_in_pixels=1000)\n",
    "\n",
    "open(\"General-Intent-Term-Visualization_10000.html\", 'wb').write(html.encode('utf-8'))"
   ]
  },
  {
   "cell_type": "markdown",
   "metadata": {},
   "source": [
    "### Characteristic Terms in Mental Health Posts\n",
    "\n",
    "To view the interactive version, please visit : <a href='https://www.cs.columbia.edu/~nishi/MH-Term-Visualization_10000.html'> Link </a>, where you can enter your own terms, click on the points to view their scores, and see excerpts of the posts in which they appear.\n",
    "\n",
    "**Note** : Loading the static page takes a few minutes but runs smoothly from there. "
   ]
  },
  {
   "cell_type": "markdown",
   "metadata": {},
   "source": [
    "This plot again shows characteristic terms for advice-seeking vs. venitng posts but in posts relating to mental health. \n",
    "\n",
    "Again, the y-axis shows an Advice F-score, while the x-axis shows Vent F-score. Each point on the scattertext plot represents a word's Advice F-score vs. Vent F-score. This means, upper left corner of plot shows terms highly associated with advice-seeking posts only, while lower right corner shows terms highly associated with vent-seeking posts only. Those on the upper right corner are terms highly in common for both.\n",
    "\n",
    "Some similar trends are repeated in this corpus, such as greeting others and expressing gratitude in advance for advice-seeking posts, as well as the profanity in the venting posts. However, there's a greater prevalence of negative terms throughout, as well as non-surprisingly, mental disorder terms and medications (\"panic attack\", \"anxiety\", \"prozac\"). You can see less spread as terms become more characteristic, suggesting a lot of overlap of terms here."
   ]
  },
  {
   "cell_type": "markdown",
   "metadata": {},
   "source": [
    "<img src='img/mh_intent.png'>"
   ]
  },
  {
   "cell_type": "markdown",
   "metadata": {},
   "source": [
    "### Generating the Scattertext Plot:"
   ]
  },
  {
   "cell_type": "code",
   "execution_count": 39,
   "metadata": {},
   "outputs": [],
   "source": [
    "#characteristic terms using scattertext\n",
    "#for more than 2 categories, do n 1 vs n-1 plots\n",
    "\n",
    "#turning dfs into Scattertext Corpus \n",
    "MH_corpus = st.CorpusFromPandas(MH_samp,\n",
    "                                category_col='intent',\n",
    "                                text_col='selftext',\n",
    "                                nlp=nlp\n",
    "                               ).build()\n",
    "\n"
   ]
  },
  {
   "cell_type": "code",
   "execution_count": 27,
   "metadata": {},
   "outputs": [
    {
     "name": "stdout",
     "output_type": "stream",
     "text": [
      "['bpd', 'idk', 'anxiety', 'reddit', 'anxious', 'gon', 'texted', 'instagram', 'cptsd', 'texting']\n"
     ]
    }
   ],
   "source": [
    "#characteristic terms that differentiate corpus from general English\n",
    "print(list(MH_corpus.get_scaled_f_scores_vs_background().index[:10]))\n",
    "\n"
   ]
  },
  {
   "cell_type": "code",
   "execution_count": 28,
   "metadata": {
    "scrolled": true
   },
   "outputs": [
    {
     "name": "stdout",
     "output_type": "stream",
     "text": [
      "['advice',\n",
      " 'any advice',\n",
      " 'panic',\n",
      " 'depression',\n",
      " 'any',\n",
      " 'help',\n",
      " 'do i',\n",
      " 'anxiety',\n",
      " 'how to',\n",
      " 'have been']\n",
      "['fucking',\n",
      " 'fuck',\n",
      " 'wish',\n",
      " 'tired',\n",
      " 'hate',\n",
      " 'i hate',\n",
      " 'shit',\n",
      " 'enough',\n",
      " 'everyone',\n",
      " 'i wish']\n"
     ]
    }
   ],
   "source": [
    "MH_term_freq_df = MH_corpus.get_term_freq_df()\n",
    "MH_term_freq_df['Advice Score']= MH_corpus.get_scaled_f_scores('ADVICE')\n",
    "MH_term_freq_df['Vent Score']= MH_corpus.get_scaled_f_scores('VENT')\n",
    "\n",
    "pprint(list(MH_term_freq_df.sort_values(by='Advice Score',\n",
    "                                        ascending=False).index[:10]))\n",
    "\n",
    "pprint(list(MH_term_freq_df.sort_values(by='Vent Score',\n",
    "                                        ascending=False).index[:10]))"
   ]
  },
  {
   "cell_type": "code",
   "execution_count": 40,
   "metadata": {},
   "outputs": [
    {
     "data": {
      "text/plain": [
       "13989244"
      ]
     },
     "execution_count": 40,
     "metadata": {},
     "output_type": "execute_result"
    }
   ],
   "source": [
    "html = st.produce_scattertext_explorer(MH_corpus,\n",
    "          category='ADVICE',\n",
    "          category_name='advice',\n",
    "          not_category_name='vent',\n",
    "          minimum_term_frequency=20,                             \n",
    "          width_in_pixels=1000)\n",
    "\n",
    "open(\"MH-Term-Visualization_10000.html\", 'wb').write(html.encode('utf-8'))"
   ]
  },
  {
   "cell_type": "markdown",
   "metadata": {},
   "source": [
    "### Intent Terms vs. Mental Health Terms\n",
    "\n",
    "To view the interactive version, please visit : <a href='https://www.cs.columbia.edu/~nishi/Intent_Group.html'> Link </a>, where you can enter your own terms, click on the points to view their scores, and see excerpts of the posts in which they appear.\n",
    "\n",
    "**Note** : Loading the static page takes a few minutes but runs smoothly from there. "
   ]
  },
  {
   "cell_type": "markdown",
   "metadata": {},
   "source": [
    "This plot shows <a href=\"https://github.com/JasonKessler/scattertext/blob/master/README.md#understanding-scaled-f-score\">Scaled F-scores</a> by intent category over both general and mental health posts to visualize how characteristic terms change based on intent and group (general, mental health). \n",
    "\n",
    "The y-axis represents increased characteristicness for advice-seeking posts, while the x-axis shows increased characteristicness for mental health-oriented posts. As a result, upper-left = Advice-seeking general posts, lower-left = venting general posts, upper-right = advice-seeking mental health posts, lower-right = venting mental health posts.\n",
    "\n",
    "This plot clarifies how a classifier might leverage terms to classify intent and group. It seems general advice posts discuss daily issues, such as education and family members. Mental health advice posts discuss heavily discuss symptoms such as suicide and anxiety, but also treatment (\"dbt\", \"sessions\"). General vent posts contain a lot of profanity, while mental health posts show more on-topic words to mental health (\"breakdown\", \"emotions\", \"brain\")."
   ]
  },
  {
   "cell_type": "markdown",
   "metadata": {},
   "source": [
    "<img src='img/intent_vs_group.png'>"
   ]
  },
  {
   "cell_type": "markdown",
   "metadata": {},
   "source": [
    "### Generating the Scattertext plot with custom coordinates\n",
    "\n",
    "Use custom coordinates to plot the intent scaled f-score vs. mental health scaled f-score:"
   ]
  },
  {
   "cell_type": "code",
   "execution_count": 9,
   "metadata": {},
   "outputs": [],
   "source": [
    "gen_samp['group'] = 'GENERAL'\n",
    "MH_samp['group'] = 'MENTAL HEALTH'\n",
    "merged_samp = pd.concat([gen_samp,MH_samp],sort=True)"
   ]
  },
  {
   "cell_type": "code",
   "execution_count": 10,
   "metadata": {},
   "outputs": [
    {
     "name": "stdout",
     "output_type": "stream",
     "text": [
      "<class 'pandas.core.frame.DataFrame'>\n",
      "Index: 20000 entries, c2d6y1 to ahdd6w\n",
      "Data columns (total 16 columns):\n",
      "Unnamed: 0         20000 non-null int64\n",
      "author             20000 non-null object\n",
      "body_ss            19166 non-null float64\n",
      "created            20000 non-null float64\n",
      "created_utc        20000 non-null int64\n",
      "d_                 9936 non-null object\n",
      "group              20000 non-null object\n",
      "intent             20000 non-null object\n",
      "link_flair_text    10772 non-null object\n",
      "num_comments       20000 non-null int64\n",
      "score              20000 non-null int64\n",
      "selftext           19221 non-null object\n",
      "subreddit          20000 non-null object\n",
      "title              20000 non-null object\n",
      "title_ss           20000 non-null float64\n",
      "url                20000 non-null object\n",
      "dtypes: float64(3), int64(4), object(9)\n",
      "memory usage: 2.6+ MB\n"
     ]
    }
   ],
   "source": [
    "merged_samp.info()"
   ]
  },
  {
   "cell_type": "code",
   "execution_count": 46,
   "metadata": {},
   "outputs": [],
   "source": [
    "merged_corpus_intent = st.CorpusFromPandas(merged_samp,\n",
    "                                category_col='intent',\n",
    "                                text_col='selftext',\n",
    "                                nlp=nlp\n",
    "                               ).build()"
   ]
  },
  {
   "cell_type": "code",
   "execution_count": 47,
   "metadata": {},
   "outputs": [],
   "source": [
    "merged_corpus_group = st.CorpusFromPandas(merged_samp,\n",
    "                                category_col='group',\n",
    "                                text_col='selftext',\n",
    "                                nlp=nlp\n",
    "                               ).build()"
   ]
  },
  {
   "cell_type": "code",
   "execution_count": 48,
   "metadata": {},
   "outputs": [],
   "source": [
    "#get f-scores\n",
    "advice_scores = merged_corpus_intent.get_scaled_f_scores('ADVICE')\n",
    "health_scores = merged_corpus_group.get_scaled_f_scores('MENTAL HEALTH')"
   ]
  },
  {
   "cell_type": "code",
   "execution_count": 64,
   "metadata": {},
   "outputs": [
    {
     "data": {
      "text/plain": [
       "25624332"
      ]
     },
     "execution_count": 64,
     "metadata": {},
     "output_type": "execute_result"
    }
   ],
   "source": [
    "html = st.produce_scattertext_explorer(merged_corpus_intent,\n",
    "                                       category='ADVICE',\n",
    "                                       category_name='Advice',\n",
    "                                       not_category_name='Venting',\n",
    "                                       minimum_term_frequency=30,\n",
    "                                       pmi_filter_thresold=4,\n",
    "                                       width_in_pixels=1000,\n",
    "                                       scores=advice_scores,\n",
    "                                       sort_by_dist=False,\n",
    "                                       x_coords=health_scores,\n",
    "                                       y_coords=advice_scores,\n",
    "                                       show_characteristic=False,\n",
    "                                       metadata=(merged_corpus_intent.get_df()['group']+' ('+merged_corpus_intent.get_df()['subreddit']  + ')'),\n",
    "                                       x_label='More Mental-Health related',\n",
    "                                       y_label='More Advice-Seeking')\n",
    "file_name = 'Intent_Group.html'\n",
    "open(file_name, 'wb').write(html.encode('utf-8'))"
   ]
  },
  {
   "cell_type": "markdown",
   "metadata": {},
   "source": [
    "### Pickle corpus objects"
   ]
  },
  {
   "cell_type": "code",
   "execution_count": 66,
   "metadata": {},
   "outputs": [],
   "source": [
    "with open('corpus_intent_10k.pickle', 'wb') as f:\n",
    "    pickle.dump(merged_corpus_intent, f)\n",
    "    \n",
    "with open('corpus_group_10k.pickle', 'wb') as f:\n",
    "    pickle.dump(merged_corpus_group, f)\n"
   ]
  },
  {
   "cell_type": "code",
   "execution_count": 67,
   "metadata": {},
   "outputs": [],
   "source": [
    "with open('corpus_MH_5k.pickle', 'wb') as f:\n",
    "    pickle.dump(MH_corpus, f)\n",
    "    \n",
    "with open('corpus_gen_5k.pickle', 'wb') as f:\n",
    "    pickle.dump(gen_corpus, f)\n"
   ]
  },
  {
   "cell_type": "markdown",
   "metadata": {},
   "source": [
    "## Up Next: Meaningful Phrase Associations, Topics, T-SNE "
   ]
  }
 ],
 "metadata": {
  "kernelspec": {
   "display_name": "Python 3",
   "language": "python",
   "name": "python3"
  },
  "language_info": {
   "codemirror_mode": {
    "name": "ipython",
    "version": 3
   },
   "file_extension": ".py",
   "mimetype": "text/x-python",
   "name": "python",
   "nbconvert_exporter": "python",
   "pygments_lexer": "ipython3",
   "version": "3.7.3"
  }
 },
 "nbformat": 4,
 "nbformat_minor": 4
}
